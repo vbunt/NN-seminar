{
 "cells": [
  {
   "cell_type": "markdown",
   "id": "42009574",
   "metadata": {},
   "source": [
    "### Валерия Бунтякова"
   ]
  },
  {
   "cell_type": "code",
   "execution_count": null,
   "id": "e383dc4d",
   "metadata": {
    "scrolled": true
   },
   "outputs": [],
   "source": [
    "import pandas as pd\n",
    "import numpy as np\n",
    "from transformers import BertTokenizer\n",
    "from keras_preprocessing.sequence import pad_sequences\n",
    "from sklearn.model_selection import train_test_split\n",
    "import torch\n",
    "from torch.utils.data import TensorDataset, DataLoader, RandomSampler, SequentialSampler\n",
    "from transformers import BertForSequenceClassification, AdamW, BertConfig\n",
    "import random\n",
    "import time\n",
    "import datetime\n",
    "from transformers import get_linear_schedule_with_warmup\n",
    "from sklearn.metrics import f1_score"
   ]
  },
  {
   "cell_type": "code",
   "execution_count": 2,
   "id": "c6555bd8",
   "metadata": {},
   "outputs": [],
   "source": [
    "data = pd.read_csv('answers_subsample.csv')"
   ]
  },
  {
   "cell_type": "code",
   "execution_count": 3,
   "id": "886c68c9",
   "metadata": {},
   "outputs": [],
   "source": [
    "cat_mapper = {cat: n for n, cat in enumerate(data.category.unique())}\n",
    "data.category = data.category.map(cat_mapper)"
   ]
  },
  {
   "cell_type": "code",
   "execution_count": 4,
   "id": "7c6e93aa",
   "metadata": {},
   "outputs": [],
   "source": [
    "labels = data.category.values[:50000]\n",
    "sentences = data.text.values[:50000]"
   ]
  },
  {
   "cell_type": "code",
   "execution_count": 5,
   "id": "99be340f",
   "metadata": {},
   "outputs": [
    {
     "name": "stdout",
     "output_type": "stream",
     "text": [
      "Loading BERT tokenizer...\n"
     ]
    }
   ],
   "source": [
    "print('Loading BERT tokenizer...')\n",
    "tokenizer = BertTokenizer.from_pretrained('bert-base-multilingual-uncased', do_lower_case=True)"
   ]
  },
  {
   "cell_type": "code",
   "execution_count": 6,
   "id": "fa9cbb68",
   "metadata": {},
   "outputs": [],
   "source": [
    "input_ids = []\n",
    "\n",
    "for sent in sentences:\n",
    "    encoded_sent = tokenizer.encode(\n",
    "                        sent, \n",
    "                        add_special_tokens = True, \n",
    "                   )\n",
    "    \n",
    "    input_ids.append(encoded_sent)"
   ]
  },
  {
   "cell_type": "code",
   "execution_count": 7,
   "id": "759db410",
   "metadata": {},
   "outputs": [
    {
     "name": "stdout",
     "output_type": "stream",
     "text": [
      "\n",
      "Padding/truncating all sentences to 100 values...\n",
      "\n",
      "Padding token: \"[PAD]\", ID: 0\n",
      "\n",
      "Done.\n"
     ]
    }
   ],
   "source": [
    "MAX_LEN = 100\n",
    "\n",
    "print('\\nPadding/truncating all sentences to %d values...' % MAX_LEN)\n",
    "\n",
    "print('\\nPadding token: \"{:}\", ID: {:}'.format(tokenizer.pad_token, tokenizer.pad_token_id))\n",
    "\n",
    "input_ids = pad_sequences(input_ids, maxlen=MAX_LEN, dtype=\"long\", \n",
    "                          value=0, truncating=\"post\", padding=\"post\")\n",
    "\n",
    "print('\\nDone.')"
   ]
  },
  {
   "cell_type": "code",
   "execution_count": 8,
   "id": "88d6f7d1",
   "metadata": {},
   "outputs": [],
   "source": [
    "attention_masks = []\n",
    "\n",
    "for sent in input_ids:\n",
    "    \n",
    "    att_mask = [int(token_id > 0) for token_id in sent]\n",
    "\n",
    "    attention_masks.append(att_mask)"
   ]
  },
  {
   "cell_type": "code",
   "execution_count": 9,
   "id": "65b3171d",
   "metadata": {},
   "outputs": [],
   "source": [
    "train_inputs, validation_inputs, train_labels, validation_labels = train_test_split(input_ids, \n",
    "                                                                                    labels, \n",
    "                                                                                    random_state=2018, \n",
    "                                                                                    test_size=0.1)\n",
    "train_masks, validation_masks, _, _ = train_test_split(attention_masks, \n",
    "                                                       labels, \n",
    "                                                       random_state=2018, \n",
    "                                                       test_size=0.1)"
   ]
  },
  {
   "cell_type": "code",
   "execution_count": 10,
   "id": "dd687a7e",
   "metadata": {},
   "outputs": [],
   "source": [
    "train_inputs = torch.tensor(train_inputs)\n",
    "validation_inputs = torch.tensor(validation_inputs)\n",
    "\n",
    "train_labels = torch.tensor(train_labels)\n",
    "validation_labels = torch.tensor(validation_labels)\n",
    "\n",
    "train_masks = torch.tensor(train_masks)\n",
    "validation_masks = torch.tensor(validation_masks)"
   ]
  },
  {
   "cell_type": "code",
   "execution_count": 11,
   "id": "6d6911eb",
   "metadata": {},
   "outputs": [],
   "source": [
    "batch_size = 32\n",
    "\n",
    "# Create the DataLoader for our training set.\n",
    "train_data = TensorDataset(train_inputs, train_masks, train_labels)\n",
    "train_sampler = RandomSampler(train_data)\n",
    "train_dataloader = DataLoader(train_data, sampler=train_sampler, batch_size=batch_size)\n",
    "\n",
    "# Create the DataLoader for our validation set.\n",
    "validation_data = TensorDataset(validation_inputs, validation_masks, validation_labels)\n",
    "validation_sampler = SequentialSampler(validation_data)\n",
    "validation_dataloader = DataLoader(validation_data, sampler=validation_sampler, batch_size=batch_size)"
   ]
  },
  {
   "cell_type": "code",
   "execution_count": null,
   "id": "268c1f1f",
   "metadata": {},
   "outputs": [],
   "source": [
    "model = BertForSequenceClassification.from_pretrained(\n",
    "    \"bert-base-multilingual-uncased\",\n",
    "    num_labels = len(data.category.unique()),  \n",
    "    output_attentions = False,\n",
    "    output_hidden_states = False,\n",
    ")\n",
    "\n",
    "model.cuda()"
   ]
  },
  {
   "cell_type": "code",
   "execution_count": 13,
   "id": "c26f6611",
   "metadata": {
    "collapsed": true
   },
   "outputs": [
    {
     "name": "stderr",
     "output_type": "stream",
     "text": [
      "/home/antonauna/.local/lib/python3.10/site-packages/transformers/optimization.py:306: FutureWarning: This implementation of AdamW is deprecated and will be removed in a future version. Use the PyTorch implementation torch.optim.AdamW instead, or set `no_deprecation_warning=True` to disable this warning\n",
      "  warnings.warn(\n"
     ]
    }
   ],
   "source": [
    "optimizer = AdamW(model.parameters(),\n",
    "                  lr = 2e-5,\n",
    "                  eps = 1e-8\n",
    "                )"
   ]
  },
  {
   "cell_type": "code",
   "execution_count": 14,
   "id": "687c744d",
   "metadata": {},
   "outputs": [],
   "source": [
    "epochs = 2\n",
    "\n",
    "total_steps = len(train_dataloader) * epochs\n",
    "\n",
    "scheduler = get_linear_schedule_with_warmup(optimizer, \n",
    "                                            num_warmup_steps = 100,\n",
    "                                            num_training_steps = total_steps)"
   ]
  },
  {
   "cell_type": "code",
   "execution_count": 15,
   "id": "402a1dc6",
   "metadata": {},
   "outputs": [],
   "source": [
    "def flat_accuracy(preds, labels):\n",
    "    pred_flat = np.argmax(preds, axis=1).flatten()\n",
    "    labels_flat = labels.flatten()\n",
    "    return np.sum(pred_flat == labels_flat) / len(labels_flat)"
   ]
  },
  {
   "cell_type": "code",
   "execution_count": 16,
   "id": "8ac44d62",
   "metadata": {},
   "outputs": [],
   "source": [
    "def format_time(elapsed):\n",
    "    '''\n",
    "    Takes a time in seconds and returns a string hh:mm:ss\n",
    "    '''\n",
    "    elapsed_rounded = int(round((elapsed)))\n",
    "    return str(datetime.timedelta(seconds=elapsed_rounded))"
   ]
  },
  {
   "cell_type": "code",
   "execution_count": 17,
   "id": "8cec16b4",
   "metadata": {},
   "outputs": [],
   "source": [
    "device = torch.device('cuda') if torch.cuda.is_available() else torch.device('cpu')"
   ]
  },
  {
   "cell_type": "code",
   "execution_count": 18,
   "id": "f750677d",
   "metadata": {},
   "outputs": [
    {
     "name": "stdout",
     "output_type": "stream",
     "text": [
      "\n",
      "======== Epoch 1 / 2 ========\n",
      "Training...\n",
      "  Batch    40  of  1,407.    Elapsed: 0:00:14.\n",
      "  Batch    80  of  1,407.    Elapsed: 0:00:27.\n",
      "  Batch   120  of  1,407.    Elapsed: 0:00:40.\n",
      "  Batch   160  of  1,407.    Elapsed: 0:00:53.\n",
      "  Batch   200  of  1,407.    Elapsed: 0:01:06.\n",
      "  Batch   240  of  1,407.    Elapsed: 0:01:19.\n",
      "  Batch   280  of  1,407.    Elapsed: 0:01:32.\n",
      "  Batch   320  of  1,407.    Elapsed: 0:01:45.\n",
      "  Batch   360  of  1,407.    Elapsed: 0:01:58.\n",
      "  Batch   400  of  1,407.    Elapsed: 0:02:11.\n",
      "  Batch   440  of  1,407.    Elapsed: 0:02:24.\n",
      "  Batch   480  of  1,407.    Elapsed: 0:02:37.\n",
      "  Batch   520  of  1,407.    Elapsed: 0:02:50.\n",
      "  Batch   560  of  1,407.    Elapsed: 0:03:03.\n",
      "  Batch   600  of  1,407.    Elapsed: 0:03:17.\n",
      "  Batch   640  of  1,407.    Elapsed: 0:03:30.\n",
      "  Batch   680  of  1,407.    Elapsed: 0:03:43.\n",
      "  Batch   720  of  1,407.    Elapsed: 0:03:56.\n",
      "  Batch   760  of  1,407.    Elapsed: 0:04:09.\n",
      "  Batch   800  of  1,407.    Elapsed: 0:04:22.\n",
      "  Batch   840  of  1,407.    Elapsed: 0:04:35.\n",
      "  Batch   880  of  1,407.    Elapsed: 0:04:48.\n",
      "  Batch   920  of  1,407.    Elapsed: 0:05:01.\n",
      "  Batch   960  of  1,407.    Elapsed: 0:05:14.\n",
      "  Batch 1,000  of  1,407.    Elapsed: 0:05:27.\n",
      "  Batch 1,040  of  1,407.    Elapsed: 0:05:40.\n",
      "  Batch 1,080  of  1,407.    Elapsed: 0:05:54.\n",
      "  Batch 1,120  of  1,407.    Elapsed: 0:06:07.\n",
      "  Batch 1,160  of  1,407.    Elapsed: 0:06:20.\n",
      "  Batch 1,200  of  1,407.    Elapsed: 0:06:33.\n",
      "  Batch 1,240  of  1,407.    Elapsed: 0:06:46.\n",
      "  Batch 1,280  of  1,407.    Elapsed: 0:06:59.\n",
      "  Batch 1,320  of  1,407.    Elapsed: 0:07:12.\n",
      "  Batch 1,360  of  1,407.    Elapsed: 0:07:25.\n",
      "  Batch 1,400  of  1,407.    Elapsed: 0:07:38.\n",
      "\n",
      "  Average training loss: 0.66\n",
      "  Training epcoh took: 0:07:40\n",
      "\n",
      "Running Validation...\n",
      "  Accuracy: 0.82\n",
      "  Validation took: 0:00:15\n",
      "\n",
      "======== Epoch 2 / 2 ========\n",
      "Training...\n",
      "  Batch    40  of  1,407.    Elapsed: 0:00:13.\n",
      "  Batch    80  of  1,407.    Elapsed: 0:00:26.\n",
      "  Batch   120  of  1,407.    Elapsed: 0:00:39.\n",
      "  Batch   160  of  1,407.    Elapsed: 0:00:52.\n",
      "  Batch   200  of  1,407.    Elapsed: 0:01:05.\n",
      "  Batch   240  of  1,407.    Elapsed: 0:01:19.\n",
      "  Batch   280  of  1,407.    Elapsed: 0:01:32.\n",
      "  Batch   320  of  1,407.    Elapsed: 0:01:45.\n",
      "  Batch   360  of  1,407.    Elapsed: 0:01:58.\n",
      "  Batch   400  of  1,407.    Elapsed: 0:02:11.\n",
      "  Batch   440  of  1,407.    Elapsed: 0:02:24.\n",
      "  Batch   480  of  1,407.    Elapsed: 0:02:37.\n",
      "  Batch   520  of  1,407.    Elapsed: 0:02:50.\n",
      "  Batch   560  of  1,407.    Elapsed: 0:03:03.\n",
      "  Batch   600  of  1,407.    Elapsed: 0:03:16.\n",
      "  Batch   640  of  1,407.    Elapsed: 0:03:30.\n",
      "  Batch   680  of  1,407.    Elapsed: 0:03:43.\n",
      "  Batch   720  of  1,407.    Elapsed: 0:03:56.\n",
      "  Batch   760  of  1,407.    Elapsed: 0:04:09.\n",
      "  Batch   800  of  1,407.    Elapsed: 0:04:22.\n",
      "  Batch   840  of  1,407.    Elapsed: 0:04:35.\n",
      "  Batch   880  of  1,407.    Elapsed: 0:04:48.\n",
      "  Batch   920  of  1,407.    Elapsed: 0:05:01.\n",
      "  Batch   960  of  1,407.    Elapsed: 0:05:14.\n",
      "  Batch 1,000  of  1,407.    Elapsed: 0:05:27.\n",
      "  Batch 1,040  of  1,407.    Elapsed: 0:05:41.\n",
      "  Batch 1,080  of  1,407.    Elapsed: 0:05:54.\n",
      "  Batch 1,120  of  1,407.    Elapsed: 0:06:07.\n",
      "  Batch 1,160  of  1,407.    Elapsed: 0:06:20.\n",
      "  Batch 1,200  of  1,407.    Elapsed: 0:06:33.\n",
      "  Batch 1,240  of  1,407.    Elapsed: 0:06:46.\n",
      "  Batch 1,280  of  1,407.    Elapsed: 0:06:59.\n",
      "  Batch 1,320  of  1,407.    Elapsed: 0:07:12.\n",
      "  Batch 1,360  of  1,407.    Elapsed: 0:07:25.\n",
      "  Batch 1,400  of  1,407.    Elapsed: 0:07:38.\n",
      "\n",
      "  Average training loss: 0.42\n",
      "  Training epcoh took: 0:07:41\n",
      "\n",
      "Running Validation...\n",
      "  Accuracy: 0.82\n",
      "  Validation took: 0:00:15\n",
      "\n",
      "Training complete!\n"
     ]
    }
   ],
   "source": [
    "seed_val = 13\n",
    "\n",
    "random.seed(seed_val)\n",
    "np.random.seed(seed_val)\n",
    "torch.manual_seed(seed_val)\n",
    "torch.cuda.manual_seed_all(seed_val)\n",
    "\n",
    "true_labels = []\n",
    "pred_labels = []\n",
    "\n",
    "loss_values = []\n",
    "\n",
    "for epoch_i in range(0, epochs):\n",
    "    print(\"\")\n",
    "    print('======== Epoch {:} / {:} ========'.format(epoch_i + 1, epochs))\n",
    "    print('Training...')\n",
    "\n",
    "    t0 = time.time()\n",
    "\n",
    "    total_loss = 0\n",
    "    \n",
    "    model.train()\n",
    "\n",
    "    for step, batch in enumerate(train_dataloader):\n",
    "\n",
    "        if step % 40 == 0 and not step == 0:\n",
    "            elapsed = format_time(time.time() - t0)\n",
    "            print('  Batch {:>5,}  of  {:>5,}.    Elapsed: {:}.'.format(step, len(train_dataloader), elapsed))\n",
    "\n",
    "        # Unpack this training batch from our dataloader. \n",
    "        b_input_ids = batch[0].to(device)\n",
    "        b_input_mask = batch[1].to(device)\n",
    "        b_labels = batch[2].to(device)\n",
    "\n",
    "        model.zero_grad()        \n",
    "\n",
    "        # Perform a forward pass (evaluate the model on this training batch).\n",
    "        outputs = model(b_input_ids, \n",
    "                        token_type_ids=None, \n",
    "                        attention_mask=b_input_mask, \n",
    "                        labels=b_labels)\n",
    "        \n",
    "        loss = outputs[0]\n",
    "        total_loss += loss.item()\n",
    "\n",
    "        # Perform a backward pass to calculate the gradients.\n",
    "        loss.backward()\n",
    "\n",
    "        # Clip the norm of the gradients to 1.0.\n",
    "        torch.nn.utils.clip_grad_norm_(model.parameters(), 1.0)\n",
    "\n",
    "        # Update parameters and take a step using the computed gradient.\n",
    "        optimizer.step()\n",
    "\n",
    "        # Update the learning rate.\n",
    "        scheduler.step()\n",
    "\n",
    "    # Calculate the average loss over the training data.\n",
    "    avg_train_loss = total_loss / len(train_dataloader)            \n",
    "    \n",
    "    # Store the loss value for plotting the learning curve.\n",
    "    loss_values.append(avg_train_loss)\n",
    "\n",
    "\n",
    "    print(\"\")\n",
    "    print(\"  Average training loss: {0:.2f}\".format(avg_train_loss))\n",
    "    print(\"  Training epcoh took: {:}\".format(format_time(time.time() - t0)))\n",
    "    print(\"\")\n",
    "    print(\"Running Validation...\")\n",
    "\n",
    "    t0 = time.time()\n",
    "    model.eval()\n",
    "\n",
    "    eval_loss, eval_accuracy = 0, 0\n",
    "    nb_eval_steps, nb_eval_examples = 0, 0\n",
    "\n",
    "    for batch in validation_dataloader:\n",
    "\n",
    "        batch = tuple(t.to(device) for t in batch)\n",
    "        b_input_ids, b_input_mask, b_labels = batch\n",
    "        \n",
    "        with torch.no_grad():        \n",
    "\n",
    "            # Forward pass, calculate logit predictions.\n",
    "            outputs = model(b_input_ids, \n",
    "                            token_type_ids=None, \n",
    "                            attention_mask=b_input_mask)\n",
    "        \n",
    "        # Get the \"logits\" output by the model.\n",
    "        logits = outputs[0]\n",
    "\n",
    "        # Move logits and labels to CPU\n",
    "        logits = logits.detach().cpu().numpy()\n",
    "        label_ids = b_labels.to('cpu').numpy()\n",
    "        \n",
    "        # Save predictions and true labels to calculate f1 later\n",
    "        pred_flat = np.argmax(logits, axis=1).flatten()\n",
    "        labels_flat = label_ids.flatten()\n",
    "        \n",
    "        true_labels = true_labels + labels_flat.tolist()\n",
    "        pred_labels = pred_labels + pred_flat.tolist()\n",
    "        \n",
    "        # Calculate the accuracy for this batch of test sentences.\n",
    "        tmp_eval_accuracy = flat_accuracy(logits, label_ids)\n",
    "        \n",
    "        # Accumulate the total accuracy.\n",
    "        eval_accuracy += tmp_eval_accuracy\n",
    "\n",
    "        # Track the number of batches\n",
    "        nb_eval_steps += 1\n",
    "\n",
    "    # Report the final accuracy for this validation run.\n",
    "    print(\"  Accuracy: {0:.2f}\".format(eval_accuracy/nb_eval_steps))\n",
    "    print(\"  Validation took: {:}\".format(format_time(time.time() - t0)))\n",
    "\n",
    "print(\"\")\n",
    "print(\"Training complete!\")"
   ]
  },
  {
   "cell_type": "code",
   "execution_count": 19,
   "id": "28f25bc2",
   "metadata": {},
   "outputs": [
    {
     "data": {
      "text/plain": [
       "0.8206"
      ]
     },
     "execution_count": 19,
     "metadata": {},
     "output_type": "execute_result"
    }
   ],
   "source": [
    "f1_score(true_labels, pred_labels, average='micro')"
   ]
  },
  {
   "cell_type": "markdown",
   "id": "929b5aa0",
   "metadata": {},
   "source": [
    "Чуть хуже, чем без берта, но тут намного меньше данных. "
   ]
  }
 ],
 "metadata": {
  "kernelspec": {
   "display_name": "Python 3 (ipykernel)",
   "language": "python",
   "name": "python3"
  },
  "language_info": {
   "codemirror_mode": {
    "name": "ipython",
    "version": 3
   },
   "file_extension": ".py",
   "mimetype": "text/x-python",
   "name": "python",
   "nbconvert_exporter": "python",
   "pygments_lexer": "ipython3",
   "version": "3.10.6"
  }
 },
 "nbformat": 4,
 "nbformat_minor": 5
}
