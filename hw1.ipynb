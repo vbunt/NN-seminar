{
 "cells": [
  {
   "cell_type": "markdown",
   "id": "54d6658a",
   "metadata": {},
   "source": [
    "### Валерия Бунтякова"
   ]
  },
  {
   "cell_type": "code",
   "execution_count": 1,
   "id": "db1da5b2",
   "metadata": {},
   "outputs": [],
   "source": [
    "import json\n",
    "import random\n",
    "import numpy as np\n",
    "from tqdm.notebook import tqdm\n",
    "from matplotlib import pyplot as plt\n",
    "from sklearn.decomposition import TruncatedSVD\n",
    "from sklearn.manifold import TSNE\n",
    "from torch.utils.data import Dataset, DataLoader\n",
    "import pickle\n",
    "\n",
    "import torch"
   ]
  },
  {
   "cell_type": "code",
   "execution_count": 2,
   "id": "883e052f",
   "metadata": {},
   "outputs": [],
   "source": [
    "with open('data/processed_corpus.json') as f:\n",
    "    corpus = json.load(f)"
   ]
  },
  {
   "cell_type": "markdown",
   "id": "2fc15f1f",
   "metadata": {},
   "source": [
    "## Split functions"
   ]
  },
  {
   "cell_type": "code",
   "execution_count": null,
   "id": "b7ba9871",
   "metadata": {},
   "outputs": [],
   "source": [
    "sample_text = corpus[1]"
   ]
  },
  {
   "cell_type": "code",
   "execution_count": null,
   "id": "3cf776f6",
   "metadata": {},
   "outputs": [],
   "source": [
    "def cbow_split(tokens, window, pad_token='PAD'):\n",
    "    \n",
    "    splits = []\n",
    "    \n",
    "    # CODE\n",
    "    \n",
    "    padding = [pad_token for i in range(window)]\n",
    "    tokens = padding + tokens + padding\n",
    "\n",
    "    for i in range(window, len(tokens)-window):\n",
    "        splits.append((tokens[i-window:i], tokens[i], tokens[i+1:i+window+1]))\n",
    "        \n",
    "    return splits\n",
    "\n",
    "\n",
    "splits = cbow_split(sample_text, window=2)"
   ]
  },
  {
   "cell_type": "code",
   "execution_count": null,
   "id": "9b5754e9",
   "metadata": {},
   "outputs": [],
   "source": [
    "def skipgram_split(tokens, window):\n",
    "    \n",
    "    splits = []\n",
    "    \n",
    "    # CODE\n",
    "    \n",
    "    pad_token = 'PAD'\n",
    "    \n",
    "    padding = [pad_token for i in range(window)]\n",
    "    tokens = padding + tokens + padding\n",
    "    \n",
    "    for i in range(window, len(tokens)-window):\n",
    "        center = tokens[i]\n",
    "        contexts = [token for token in tokens[i-window:i] + tokens[i+1:i+window+1] if token != pad_token]\n",
    "        \n",
    "        for c in contexts:\n",
    "            splits.append((c, center))\n",
    "        \n",
    "    return splits\n",
    "\n",
    "\n",
    "splits = skipgram_split(sample_text, window=2)"
   ]
  },
  {
   "cell_type": "markdown",
   "id": "450ffb16",
   "metadata": {},
   "source": [
    "## Dataset"
   ]
  },
  {
   "cell_type": "code",
   "execution_count": 3,
   "id": "1ea67607",
   "metadata": {},
   "outputs": [],
   "source": [
    "word2index = {}\n",
    "\n",
    "for text in corpus:\n",
    "    for token in text:\n",
    "        if token not in word2index:\n",
    "            word2index[token] = len(word2index)"
   ]
  },
  {
   "cell_type": "code",
   "execution_count": 4,
   "id": "d882be3e",
   "metadata": {},
   "outputs": [],
   "source": [
    "class SkipgramDataset(Dataset):\n",
    "\n",
    "    def __init__(self,\n",
    "                 corpus,\n",
    "                 word2index,\n",
    "                 window=2,\n",
    "                 unk_token='UNK',\n",
    "                 collect_verbose=True):\n",
    "\n",
    "        self.corpus = corpus\n",
    "        self.word2index = word2index\n",
    "        self.index2word = {value: key for key, value in self.word2index.items()}\n",
    "        self.window = window\n",
    "\n",
    "        self.unk_token = unk_token\n",
    "        self.unk_index = self.word2index[self.unk_token]\n",
    "\n",
    "        self.collect_verbose = collect_verbose\n",
    "\n",
    "        self.data = []\n",
    "\n",
    "        self.collect_data()\n",
    "\n",
    "    def __len__(self):\n",
    "\n",
    "        return len(self.data)\n",
    "\n",
    "    def _split_function(self, tokenized_text):\n",
    "        \n",
    "        # CODE\n",
    "\n",
    "        splits = []\n",
    "        pad_token = 'PAD'\n",
    "\n",
    "        padding = [pad_token for i in range(self.window)]\n",
    "        tokenized_text = padding + tokenized_text + padding\n",
    "\n",
    "        for i in range(self.window, len(tokenized_text)-self.window):\n",
    "            center = tokenized_text[i]\n",
    "            contexts = [token for token in tokenized_text[i-self.window:i] + tokenized_text[i+1:i+self.window+1] if token != pad_token]\n",
    "            for c in contexts:\n",
    "                splits.append((c, center))\n",
    "\n",
    "        return splits\n",
    "\n",
    "    def indexing(self, tokenized_text):\n",
    "\n",
    "        return [self.word2index[token] if token in self.word2index else self.unk_index for token in tokenized_text]\n",
    "\n",
    "    def collect_data(self):\n",
    "\n",
    "        corpus = tqdm(self.corpus, disable=not self.collect_verbose)\n",
    "\n",
    "        for tokenized_text in corpus:\n",
    "            indexed_text = self.indexing(tokenized_text)\n",
    "            skipgram_examples = self._split_function(indexed_text)\n",
    "\n",
    "            self.data.extend(skipgram_examples)\n",
    "\n",
    "    def __getitem__(self, idx):\n",
    "        \n",
    "        context, central_word = self.data[idx]\n",
    "        context = torch.Tensor([context, ]).long()\n",
    "        \n",
    "        # CODE\n",
    "\n",
    "        return context, central_word"
   ]
  },
  {
   "cell_type": "code",
   "execution_count": null,
   "id": "d087abe0",
   "metadata": {},
   "outputs": [],
   "source": [
    "dataset = SkipgramDataset(corpus, word2index)"
   ]
  },
  {
   "cell_type": "code",
   "execution_count": null,
   "id": "6230a01e",
   "metadata": {},
   "outputs": [],
   "source": [
    "BATCH_SIZE = 512"
   ]
  },
  {
   "cell_type": "code",
   "execution_count": null,
   "id": "08a5d8af",
   "metadata": {},
   "outputs": [],
   "source": [
    "dataset_loader = DataLoader(dataset, shuffle=True, batch_size=BATCH_SIZE)"
   ]
  },
  {
   "cell_type": "code",
   "execution_count": null,
   "id": "2758aef6",
   "metadata": {},
   "outputs": [],
   "source": [
    "for x, y in dataset_loader:\n",
    "    break"
   ]
  },
  {
   "cell_type": "markdown",
   "id": "4d6a6bf8",
   "metadata": {},
   "source": [
    "## Model"
   ]
  },
  {
   "cell_type": "code",
   "execution_count": 5,
   "id": "397f3a8a",
   "metadata": {},
   "outputs": [],
   "source": [
    "# CODE\n",
    "class SkipGram(torch.nn.Module):\n",
    "    \n",
    "    def __init__(self, vocab_size, embedding_dim):\n",
    "        \n",
    "        super().__init__()\n",
    "        \n",
    "        self.in_embedding = torch.nn.Embedding(num_embeddings=vocab_size, \n",
    "                                               embedding_dim=embedding_dim)\n",
    "        \n",
    "        self.out_embedding = torch.nn.Linear(in_features=embedding_dim,\n",
    "                                             out_features=vocab_size, bias=False)\n",
    "        \n",
    "    def forward(self, x):\n",
    "        x = self.in_embedding(x).sum(dim=-2)\n",
    "        x = self.out_embedding(x)\n",
    "        \n",
    "        return x   "
   ]
  },
  {
   "cell_type": "code",
   "execution_count": null,
   "id": "854c01cf",
   "metadata": {},
   "outputs": [],
   "source": [
    "device = torch.device(\"cuda:0\" if torch.cuda.is_available() else \"cpu\")"
   ]
  },
  {
   "cell_type": "code",
   "execution_count": null,
   "id": "a9b174b6",
   "metadata": {},
   "outputs": [],
   "source": [
    "EMBEDDING_DIM = 20"
   ]
  },
  {
   "cell_type": "code",
   "execution_count": null,
   "id": "4c4fb637",
   "metadata": {},
   "outputs": [],
   "source": [
    "model = SkipGram(vocab_size=len(word2index), embedding_dim=EMBEDDING_DIM).to(device)\n",
    "\n",
    "optimizer = torch.optim.Adam(params=model.parameters(), lr=0.0001)\n",
    "\n",
    "criterion = torch.nn.CrossEntropyLoss()\n",
    "\n",
    "epochs = 5\n",
    "\n",
    "losses = []\n",
    "\n",
    "for n_epoch in range(epochs):\n",
    "\n",
    "    try:\n",
    "\n",
    "        progress_bar = tqdm(total=len(dataset_loader.dataset), desc='Epoch {}'.format(n_epoch + 1))\n",
    "\n",
    "        for x, y in dataset_loader:\n",
    "            \n",
    "            x = x.to(device)\n",
    "            y = y.to(device)\n",
    "            \n",
    "            optimizer.zero_grad()\n",
    "            pred = model(x)\n",
    "\n",
    "            # CODE\n",
    "\n",
    "            loss = criterion(pred, y)\n",
    "            loss.backward()\n",
    "            optimizer.step()\n",
    "            \n",
    "            # CODE\n",
    "            \n",
    "            losses.append(loss.item())\n",
    "            \n",
    "            progress_bar.set_postfix(loss=np.mean(losses[-100:]))\n",
    "            progress_bar.update(x.shape[0])\n",
    "\n",
    "        progress_bar.close()\n",
    "\n",
    "    except KeyboardInterrupt:\n",
    "\n",
    "        progress_bar.close()\n",
    "        break"
   ]
  },
  {
   "cell_type": "code",
   "execution_count": null,
   "id": "89fdd400",
   "metadata": {},
   "outputs": [],
   "source": [
    "plt.title('SkipGram Training Process')\n",
    "plt.xlabel('Iterations')\n",
    "plt.ylabel('Loss')\n",
    "plt.grid()\n",
    "plt.plot(losses)"
   ]
  },
  {
   "cell_type": "code",
   "execution_count": null,
   "id": "bdc0a15e",
   "metadata": {},
   "outputs": [],
   "source": [
    "# average loss 7.29\n",
    "with open('emb_model.pickle', 'wb') as f:\n",
    "    pickle.dump(model, f)"
   ]
  },
  {
   "cell_type": "code",
   "execution_count": 6,
   "id": "cd465a79",
   "metadata": {},
   "outputs": [],
   "source": [
    "with open('emb_model.pickle', 'rb') as f:\n",
    "    model = pickle.load(f)"
   ]
  },
  {
   "cell_type": "markdown",
   "id": "c8165e23",
   "metadata": {},
   "source": [
    "## Testing"
   ]
  },
  {
   "cell_type": "code",
   "execution_count": 7,
   "id": "5901dac1",
   "metadata": {},
   "outputs": [],
   "source": [
    "embedding_matrix = model.in_embedding.weight.detach()"
   ]
  },
  {
   "cell_type": "code",
   "execution_count": 8,
   "id": "7d3345a7",
   "metadata": {},
   "outputs": [],
   "source": [
    "def cos_sim(embedding_matrix, token2id, word1, word2):\n",
    "    \n",
    "    try:\n",
    "        i1 = token2id[word1]\n",
    "        i2 = token2id[word2]\n",
    "    except KeyError: # if word not in model\n",
    "        return -5\n",
    "    \n",
    "    v1, v2 = embedding_matrix[i1], embedding_matrix[i2]\n",
    "    \n",
    "    v1_n = v1.div(v1.norm(keepdim=True))\n",
    "    v2_n = v2.div(v2.norm(keepdim=True))\n",
    "    \n",
    "    similarity = torch.dot(v1_n, v2_n).item()\n",
    "    \n",
    "    return similarity"
   ]
  },
  {
   "cell_type": "code",
   "execution_count": 9,
   "id": "e48675e9",
   "metadata": {},
   "outputs": [
    {
     "data": {
      "text/plain": [
       "0.49183663725852966"
      ]
     },
     "execution_count": 9,
     "metadata": {},
     "output_type": "execute_result"
    }
   ],
   "source": [
    "cos_sim(embedding_matrix, word2index, 'день', 'месяц')"
   ]
  },
  {
   "cell_type": "code",
   "execution_count": 10,
   "id": "12588e27",
   "metadata": {},
   "outputs": [
    {
     "data": {
      "text/plain": [
       "0.6426668763160706"
      ]
     },
     "execution_count": 10,
     "metadata": {},
     "output_type": "execute_result"
    }
   ],
   "source": [
    "cos_sim(embedding_matrix, word2index, 'минута', 'месяц')"
   ]
  },
  {
   "cell_type": "code",
   "execution_count": 11,
   "id": "6d0db5cb",
   "metadata": {},
   "outputs": [
    {
     "data": {
      "text/plain": [
       "0.04380059242248535"
      ]
     },
     "execution_count": 11,
     "metadata": {},
     "output_type": "execute_result"
    }
   ],
   "source": [
    "cos_sim(embedding_matrix, word2index, 'сотрудник', 'сотрудница')"
   ]
  },
  {
   "cell_type": "code",
   "execution_count": 12,
   "id": "de46bf94",
   "metadata": {},
   "outputs": [
    {
     "data": {
      "text/plain": [
       "0.18202295899391174"
      ]
     },
     "execution_count": 12,
     "metadata": {},
     "output_type": "execute_result"
    }
   ],
   "source": [
    "cos_sim(embedding_matrix, word2index, 'смерть', 'хлеб')"
   ]
  },
  {
   "cell_type": "code",
   "execution_count": null,
   "id": "284c399a",
   "metadata": {},
   "outputs": [],
   "source": [
    "freq = {}\n",
    "\n",
    "for text in corpus:\n",
    "    for token in text:\n",
    "        if token in freq:\n",
    "            freq[token] += 1\n",
    "        else:\n",
    "            freq[token] = 1"
   ]
  },
  {
   "cell_type": "code",
   "execution_count": null,
   "id": "174491c8",
   "metadata": {},
   "outputs": [],
   "source": [
    "sorted_freq = [(k, freq[k]) for k in sorted(freq, key=freq.get, reverse=True)]\n",
    "top_sorted_freq = sorted_freq[0:200]\n",
    "tsne = TSNE(n_components=2, init='pca', random_state=42, verbose=2)\n",
    "reduced = tsne.fit_transform(embedding_matrix.cpu())\n",
    "top_words = [a for a,_ in top_sorted_freq]\n",
    "inds = [word2index[word] for word in top_words]\n",
    "x_coords = [coords[0] for coords in reduced[inds]]\n",
    "y_coords = [coords[1] for coords in reduced[inds]]"
   ]
  },
  {
   "cell_type": "code",
   "execution_count": null,
   "id": "dcf1a65f",
   "metadata": {},
   "outputs": [],
   "source": [
    "for (x, y, word) in zip(x_coords, y_coords, top_words):\n",
    "    plt.scatter(x, y, marker='.', color='blue')\n",
    "    plt.text(x+0.01, y+0.01, word, fontsize=9)\n",
    "plt.show()"
   ]
  },
  {
   "cell_type": "markdown",
   "id": "597ddd9e",
   "metadata": {},
   "source": [
    "## Evaluation"
   ]
  },
  {
   "cell_type": "code",
   "execution_count": 13,
   "id": "210dd1ed",
   "metadata": {},
   "outputs": [],
   "source": [
    "import pandas as pd\n",
    "from sklearn.preprocessing import MinMaxScaler as MMS\n",
    "from sklearn.metrics import mean_squared_error as MSE"
   ]
  },
  {
   "cell_type": "code",
   "execution_count": 14,
   "id": "f61c1a52",
   "metadata": {},
   "outputs": [],
   "source": [
    "df = pd.read_csv('data/ru_simlex965_tagged.tsv', delimiter='\\t')"
   ]
  },
  {
   "cell_type": "code",
   "execution_count": 15,
   "id": "bc2c27a0",
   "metadata": {},
   "outputs": [],
   "source": [
    "df[['Word1', 'POS1']] = df['# Word1'].str.split('_', expand=True)\n",
    "df[['Word2', 'POS2']] = df['Word2'].str.split('_', expand=True)\n",
    "df = df.drop(columns=['# Word1', 'POS1', 'POS2'])"
   ]
  },
  {
   "cell_type": "code",
   "execution_count": 16,
   "id": "0c328f4d",
   "metadata": {},
   "outputs": [],
   "source": [
    "avscore = np.array(df['Average Score']).reshape(-1, 1)\n",
    "df['Average Score'] = MMS().fit_transform(avscore)"
   ]
  },
  {
   "cell_type": "code",
   "execution_count": 17,
   "id": "3bb4f37f",
   "metadata": {},
   "outputs": [],
   "source": [
    "w1 = df['Word1'].to_list()\n",
    "w2 = df['Word2'].to_list()\n",
    "df['My_score'] = [cos_sim(embedding_matrix, word2index, w1[i], w2[i]) for i in range(len(w1))]"
   ]
  },
  {
   "cell_type": "code",
   "execution_count": 18,
   "id": "046683df",
   "metadata": {},
   "outputs": [],
   "source": [
    "smol = df[df['My_score']!=-5]"
   ]
  },
  {
   "cell_type": "code",
   "execution_count": 19,
   "id": "1722bc11",
   "metadata": {},
   "outputs": [
    {
     "data": {
      "text/plain": [
       "0.20290080832022972"
      ]
     },
     "execution_count": 19,
     "metadata": {},
     "output_type": "execute_result"
    }
   ],
   "source": [
    "MSE(smol['Average Score'], smol['My_score'])"
   ]
  },
  {
   "cell_type": "markdown",
   "id": "a54c81cb",
   "metadata": {},
   "source": [
    "Вполне неплохо!!"
   ]
  }
 ],
 "metadata": {
  "kernelspec": {
   "display_name": "Python 3 (ipykernel)",
   "language": "python",
   "name": "python3"
  },
  "language_info": {
   "codemirror_mode": {
    "name": "ipython",
    "version": 3
   },
   "file_extension": ".py",
   "mimetype": "text/x-python",
   "name": "python",
   "nbconvert_exporter": "python",
   "pygments_lexer": "ipython3",
   "version": "3.10.6"
  }
 },
 "nbformat": 4,
 "nbformat_minor": 5
}
